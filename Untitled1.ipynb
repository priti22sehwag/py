{
  "nbformat": 4,
  "nbformat_minor": 0,
  "metadata": {
    "colab": {
      "provenance": [],
      "authorship_tag": "ABX9TyPwFVKvfAt/J751ffLkliwq",
      "include_colab_link": true
    },
    "kernelspec": {
      "name": "python3",
      "display_name": "Python 3"
    },
    "language_info": {
      "name": "python"
    }
  },
  "cells": [
    {
      "cell_type": "markdown",
      "metadata": {
        "id": "view-in-github",
        "colab_type": "text"
      },
      "source": [
        "<a href=\"https://colab.research.google.com/github/priti22sehwag/py/blob/master/Untitled1.ipynb\" target=\"_parent\"><img src=\"https://colab.research.google.com/assets/colab-badge.svg\" alt=\"Open In Colab\"/></a>"
      ]
    },
    {
      "cell_type": "code",
      "execution_count": null,
      "metadata": {
        "id": "WtxtTzTLedyT"
      },
      "outputs": [],
      "source": []
    },
    {
      "cell_type": "code",
      "source": [
        "base=10.3\n",
        "height=20.5\n",
        "area=1/2*base*height\n",
        "print(area)"
      ],
      "metadata": {
        "colab": {
          "base_uri": "https://localhost:8080/"
        },
        "id": "VGo_GGkWeh6T",
        "outputId": "dc2b03f4-9ae1-4a83-fd61-e3fa86a08fc0"
      },
      "execution_count": 3,
      "outputs": [
        {
          "output_type": "stream",
          "name": "stdout",
          "text": [
            "105.575\n"
          ]
        }
      ]
    },
    {
      "cell_type": "code",
      "source": [
        "round(area)"
      ],
      "metadata": {
        "colab": {
          "base_uri": "https://localhost:8080/"
        },
        "id": "ceJjRIsxfB2Z",
        "outputId": "dbb371d1-192a-4346-bbd7-625fdf91e19c"
      },
      "execution_count": 4,
      "outputs": [
        {
          "output_type": "execute_result",
          "data": {
            "text/plain": [
              "106"
            ]
          },
          "metadata": {},
          "execution_count": 4
        }
      ]
    },
    {
      "cell_type": "code",
      "source": [
        "area"
      ],
      "metadata": {
        "colab": {
          "base_uri": "https://localhost:8080/"
        },
        "id": "uxKoqOs6fXsE",
        "outputId": "bf4ff1b0-7de0-4f32-d2ba-05ccf7370b82"
      },
      "execution_count": 5,
      "outputs": [
        {
          "output_type": "execute_result",
          "data": {
            "text/plain": [
              "105.575"
            ]
          },
          "metadata": {},
          "execution_count": 5
        }
      ]
    },
    {
      "cell_type": "code",
      "source": [
        "a=2+3\n",
        "b=5-7\n",
        "c=5*7\n",
        "d=10/2\n",
        "e=10%3\n",
        "f=4**3\n",
        "print(a,b,c,d,e,f)"
      ],
      "metadata": {
        "colab": {
          "base_uri": "https://localhost:8080/"
        },
        "id": "I8wSakIXfaX7",
        "outputId": "e942578f-8a93-4711-84e3-399444504a09"
      },
      "execution_count": 7,
      "outputs": [
        {
          "output_type": "stream",
          "name": "stdout",
          "text": [
            "5 -2 35 5.0 1 64\n"
          ]
        }
      ]
    },
    {
      "cell_type": "code",
      "source": [
        "type(area)"
      ],
      "metadata": {
        "colab": {
          "base_uri": "https://localhost:8080/"
        },
        "id": "HQypCR-SflB6",
        "outputId": "85062b56-2fbb-4fd2-d8dc-6940ad16f3ee"
      },
      "execution_count": 8,
      "outputs": [
        {
          "output_type": "execute_result",
          "data": {
            "text/plain": [
              "float"
            ]
          },
          "metadata": {},
          "execution_count": 8
        }
      ]
    },
    {
      "cell_type": "code",
      "source": [
        "0x12   #hexadecimal"
      ],
      "metadata": {
        "colab": {
          "base_uri": "https://localhost:8080/"
        },
        "id": "Lp7k1XKogn3x",
        "outputId": "2517cce0-fbbb-4dae-92fb-3fd0f46f8223"
      },
      "execution_count": 9,
      "outputs": [
        {
          "output_type": "execute_result",
          "data": {
            "text/plain": [
              "18"
            ]
          },
          "metadata": {},
          "execution_count": 9
        }
      ]
    },
    {
      "cell_type": "code",
      "source": [
        "cl = 2+3j\n",
        "type(cl)\n",
        "\n"
      ],
      "metadata": {
        "colab": {
          "base_uri": "https://localhost:8080/"
        },
        "id": "gMiwCbPXg0F4",
        "outputId": "89c8fc9b-1643-4e51-d9cf-7e94c9524299"
      },
      "execution_count": 12,
      "outputs": [
        {
          "output_type": "execute_result",
          "data": {
            "text/plain": [
              "complex"
            ]
          },
          "metadata": {},
          "execution_count": 12
        }
      ]
    },
    {
      "cell_type": "code",
      "source": [
        "length=92\n",
        "width=48.8\n",
        "area=length*width\n",
        "print(\"area of football field:\",area) # Ans: 4489.599999999999"
      ],
      "metadata": {
        "colab": {
          "base_uri": "https://localhost:8080/"
        },
        "id": "MnFeXNjrhY4p",
        "outputId": "05b597de-55c1-4b6c-831f-544bc3f0a58d"
      },
      "execution_count": 17,
      "outputs": [
        {
          "output_type": "stream",
          "name": "stdout",
          "text": [
            "area of football field: 4489.599999999999\n"
          ]
        }
      ]
    },
    {
      "cell_type": "code",
      "source": [
        "num_packets=9\n",
        "cost_per_packet=1.49\n",
        "total_cost=num_packets*cost_per_packet\n",
        "money_paid=20\n",
        "cash_back=money_paid-total_cost\n",
        "print(\"Cash back:\",cash_back) # Ans: 6.59\n",
        "                                                                         ###20-(9*1.49)"
      ],
      "metadata": {
        "colab": {
          "base_uri": "https://localhost:8080/"
        },
        "id": "LUWSOA75h0cY",
        "outputId": "5ea96692-93a2-4e45-c366-005c3d249875"
      },
      "execution_count": 18,
      "outputs": [
        {
          "output_type": "stream",
          "name": "stdout",
          "text": [
            "Cash back: 6.59\n"
          ]
        }
      ]
    },
    {
      "cell_type": "code",
      "source": [
        "length=5.5\n",
        "area=length**2 # area of square is length power 2\n",
        "cost=area*500\n",
        "print(\"total cost for bathroom tiles replacement:\",cost) # Ans: 15125.0"
      ],
      "metadata": {
        "colab": {
          "base_uri": "https://localhost:8080/"
        },
        "id": "26_j8avrjU-Y",
        "outputId": "d5fb3d90-fa10-4998-c60e-38f7aeb2815e"
      },
      "execution_count": 19,
      "outputs": [
        {
          "output_type": "stream",
          "name": "stdout",
          "text": [
            "total cost for bathroom tiles replacement: 15125.0\n"
          ]
        }
      ]
    },
    {
      "cell_type": "code",
      "source": [
        "(5.5**2)*500"
      ],
      "metadata": {
        "colab": {
          "base_uri": "https://localhost:8080/"
        },
        "id": "3Do_IDQxiNjY",
        "outputId": "5622f9f1-4c49-4cb5-c887-70f1a8d5aad8"
      },
      "execution_count": 15,
      "outputs": [
        {
          "output_type": "execute_result",
          "data": {
            "text/plain": [
              "15125.0"
            ]
          },
          "metadata": {},
          "execution_count": 15
        }
      ]
    },
    {
      "cell_type": "code",
      "source": [
        "# 4. Print binary representation of number 17\n",
        "num=17\n",
        "print('Binary of number 17 is:',format(num,'b')) # Ans: 10001"
      ],
      "metadata": {
        "colab": {
          "base_uri": "https://localhost:8080/"
        },
        "id": "YyuJBy7XjcoQ",
        "outputId": "ee159fb5-d893-4ef7-82f6-9346b76f43d0"
      },
      "execution_count": 20,
      "outputs": [
        {
          "output_type": "stream",
          "name": "stdout",
          "text": [
            "Binary of number 17 is: 10001\n"
          ]
        }
      ]
    },
    {
      "cell_type": "code",
      "source": [
        "format(17,'b')"
      ],
      "metadata": {
        "colab": {
          "base_uri": "https://localhost:8080/",
          "height": 35
        },
        "id": "z2MTe-nHik5Q",
        "outputId": "3b21d518-81de-4621-ea04-adbfd0cca337"
      },
      "execution_count": 16,
      "outputs": [
        {
          "output_type": "execute_result",
          "data": {
            "text/plain": [
              "'10001'"
            ],
            "application/vnd.google.colaboratory.intrinsic+json": {
              "type": "string"
            }
          },
          "metadata": {},
          "execution_count": 16
        }
      ]
    }
  ]
}